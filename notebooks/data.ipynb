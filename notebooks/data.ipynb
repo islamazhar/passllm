{
 "cells": [
  {
   "cell_type": "code",
   "execution_count": 1,
   "metadata": {},
   "outputs": [],
   "source": [
    "import os \n",
    "file_name_in = os.getenv(\"HOME\") + \"/pwdata/data/new_mixed_full/mixed_full_leak_data_80.txt\"\n",
    "fin = open(file_name_in)\n",
    "\n",
    "\n",
    "file_name_out = os.getenv(\"HOME\") + \"/pwdata/mazharul/llama2-model-train-pws/train.txt\"\n"
   ]
  },
  {
   "cell_type": "code",
   "execution_count": 2,
   "metadata": {},
   "outputs": [],
   "source": [
    "def filter_pw(pw): # filtering passwords\n",
    "    return len(pw) >=4 and len(pw) <=30 \n",
    "# todo: add filter to identify algorithmically generated passwords.\n",
    "# todo: make sure each username is unique for each row\n",
    "# todo: do the analysis for Breach compilation"
   ]
  },
  {
   "cell_type": "code",
   "execution_count": 3,
   "metadata": {},
   "outputs": [
    {
     "name": "stdout",
     "output_type": "stream",
     "text": [
      "{'1321000', 'wxin0521'}\n"
     ]
    }
   ],
   "source": [
    "# filter usernames, and passwords\n",
    "with open(file_name_out, 'w') as fout:\n",
    "    lineNo = 0\n",
    "    for count, line in enumerate(fin):\n",
    "        # print(line)\n",
    "        \n",
    "        try:\n",
    "            uname, pws = line.strip().split('\\t', 1)\n",
    "            # print(pws)\n",
    "            upws = {x for x in pws.split('\\t') if filter_pw(x)}\n",
    "            # print(uname, upws)\n",
    "            if len(upws) > 1:\n",
    "                fout.write('\\t'.join(upws) + '\\n')\n",
    "                lineNo += 1\n",
    "                if lineNo % 100000000 == 0:\n",
    "                    print(upws)\n",
    "        except :\n",
    "            continue \n",
    "            # if lineNo > 30: \n",
    "            #     break"
   ]
  },
  {
   "cell_type": "code",
   "execution_count": 10,
   "metadata": {},
   "outputs": [],
   "source": [
    "# prepare the file \n",
    "import random \n",
    "\n",
    "file_name_out2 = os.getenv(\"HOME\") + \"/pwdata/mazharul/llama2-model-train-pws/pre_train.txt\"\n",
    "with open(file_name_out, 'r') as fin, open(file_name_out2, 'w') as fout:\n",
    "    for line in fin:\n",
    "        pws = line.strip().split('\\t')\n",
    "        pw_selected = random.choice(pws)\n",
    "        pws.remove(pw_selected)\n",
    "        pws =  '\\t'.join(pws)\n",
    "        fout.write(f\"{pw_selected}\\t{pws}\")\n",
    "        fout.write(\"\\n\")        "
   ]
  }
 ],
 "metadata": {
  "kernelspec": {
   "display_name": "omniquant",
   "language": "python",
   "name": "python3"
  },
  "language_info": {
   "codemirror_mode": {
    "name": "ipython",
    "version": 3
   },
   "file_extension": ".py",
   "mimetype": "text/x-python",
   "name": "python",
   "nbconvert_exporter": "python",
   "pygments_lexer": "ipython3",
   "version": "3.10.14"
  }
 },
 "nbformat": 4,
 "nbformat_minor": 2
}
